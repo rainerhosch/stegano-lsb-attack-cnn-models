{
 "cells": [
  {
   "cell_type": "markdown",
   "id": "335a9ec2",
   "metadata": {},
   "source": [
    "# Setup Structrur Project"
   ]
  },
  {
   "cell_type": "markdown",
   "id": "d8081bab",
   "metadata": {},
   "source": [
    "#### *SETUP Config*"
   ]
  },
  {
   "cell_type": "code",
   "execution_count": 1,
   "id": "0e6198bf",
   "metadata": {},
   "outputs": [],
   "source": [
    "import os\n",
    "\n",
    "def setup():\n",
    "    # Folder structure sesuai struktur yang diinginkan\n",
    "    folders = [\n",
    "        \"configs\",\n",
    "        \"data/raw\",\n",
    "        \"data/processed\",\n",
    "        \"data/datasets/cifar10\",\n",
    "        \"data/datasets/mnist\",\n",
    "        \"data/datasets/custom\",\n",
    "        \"models/base_models\",\n",
    "        \"models/trained_models\",\n",
    "        \"models/injected_models\",\n",
    "        \"models/detector\",\n",
    "        \"src\",\n",
    "        \"src/utils\",\n",
    "        \"notebooks\",\n",
    "        \"tests\"\n",
    "    ]\n",
    "    files = {\n",
    "        \"configs/base_config.yaml\": \"\",\n",
    "        \"configs/training_config.yaml\": \"\",\n",
    "        \"configs/injection_config.yaml\": \"\",\n",
    "        \"src/__init__.py\": \"\",\n",
    "        \"src/data_acquisition.py\": \"\",\n",
    "        \"src/model_training.py\": \"\",\n",
    "        \"src/injection_engine.py\": \"\",\n",
    "        \"src/feature_extractor.py\": \"\",\n",
    "        \"src/detector_trainer.py\": \"\",\n",
    "        \"src/utils/__init__.py\": \"\",\n",
    "        \"src/utils/helpers.py\": \"\",\n",
    "        \"src/utils/visualization.py\": \"\",\n",
    "        \"notebooks/01_data_exploration.ipynb\": \"\",\n",
    "        \"notebooks/02_injection_analysis.ipynb\": \"\",\n",
    "        \"notebooks/03_detector_evaluation.ipynb\": \"\",\n",
    "        \"tests/test_injection.py\": \"\",\n",
    "        \"tests/test_features.py\": \"\",\n",
    "        \"main.py\": \"\",\n",
    "        \"requirements.txt\": \"\",\n",
    "        \"README.md\": \"\"\n",
    "    }\n",
    "\n",
    "    # Create folders\n",
    "    for folder in folders:\n",
    "        os.makedirs(folder, exist_ok=True)\n",
    "\n",
    "    # Create files\n",
    "    for file_path, content in files.items():\n",
    "        dir_name = os.path.dirname(file_path)\n",
    "        if dir_name and not os.path.exists(dir_name):\n",
    "            os.makedirs(dir_name, exist_ok=True)\n",
    "        with open(file_path, \"w\", encoding=\"utf-8\") as f:\n",
    "            f.write(content)"
   ]
  },
  {
   "cell_type": "markdown",
   "id": "e5b57b5c",
   "metadata": {},
   "source": [
    "#### # Jalankan fungsi untuk membuat struktur"
   ]
  },
  {
   "cell_type": "code",
   "execution_count": 2,
   "id": "727b26c4",
   "metadata": {},
   "outputs": [],
   "source": [
    "setup()"
   ]
  },
  {
   "cell_type": "markdown",
   "id": "776b34b4",
   "metadata": {},
   "source": [
    "# Ceck and Test GPU"
   ]
  },
  {
   "cell_type": "code",
   "execution_count": 15,
   "id": "ad1ec27e",
   "metadata": {},
   "outputs": [
    {
     "name": "stdout",
     "output_type": "stream",
     "text": [
      "['models/base_models/resnet18_pretrained.pth']\n"
     ]
    }
   ],
   "source": [
    "import yaml\n",
    "config_path=\"configs/base_config.yaml\"\n",
    "config=[]\n",
    "with open(config_path, 'r') as f:\n",
    "    config = yaml.safe_load(f)\n",
    "scratch_datasets = config['datasets']\n",
    "scratch_models = config['base_models']\n",
    "base_pretrained_models = []\n",
    "for i, dataset in scratch_datasets.items():\n",
    "    for model_name, i in scratch_models.items():\n",
    "        base_pretrained_models.append(f\"models/base_models/{model_name}_pretrained.pth\")\n",
    "# print(config['base_models'].items())\n",
    "print(base_pretrained_models)"
   ]
  },
  {
   "cell_type": "code",
   "execution_count": 37,
   "id": "d7affd14",
   "metadata": {},
   "outputs": [
    {
     "name": "stdout",
     "output_type": "stream",
     "text": [
      "tensor([[0.1904, 0.9045, 0.6009],\n",
      "        [0.9846, 0.4433, 0.5178],\n",
      "        [0.8635, 0.2702, 0.4201],\n",
      "        [0.6366, 0.5579, 0.2481],\n",
      "        [0.4006, 0.8064, 0.0949]])\n"
     ]
    }
   ],
   "source": [
    "import torch\n",
    "x = torch.rand(5, 3)\n",
    "print(x)"
   ]
  },
  {
   "cell_type": "code",
   "execution_count": null,
   "id": "890bb7e1",
   "metadata": {},
   "outputs": [
    {
     "name": "stdout",
     "output_type": "stream",
     "text": [
      "tensor([[[-0.2318, -0.8590, -0.7416,  ...,  0.1813, -0.0781,  0.4358],\n",
      "         [ 0.8333,  0.7809, -0.3760,  ..., -0.0396,  0.9033, -0.6771],\n",
      "         [-0.1775,  0.4905, -0.1696,  ..., -0.6316,  1.5319,  1.1901],\n",
      "         ...,\n",
      "         [-1.1592, -0.9153,  1.1092,  ..., -0.2088, -0.5704, -0.7982],\n",
      "         [-0.5697,  1.5137, -1.8539,  ...,  1.0510,  0.6981, -0.0287],\n",
      "         [-0.8787, -1.4977,  0.6994,  ...,  1.0186,  1.0458,  0.9592]]],\n",
      "       device='cuda:0')\n"
     ]
    }
   ],
   "source": [
    "device = torch.device(\"cuda\" if torch.cuda.is_available() else \"cpu\")\n",
    "b, m, n, k = 1, 1024, 1024, 512\n",
    "A = torch.randn(b, m, k, dtype=torch.float32, device=device)\n",
    "print(A)\n"
   ]
  },
  {
   "cell_type": "code",
   "execution_count": 2,
   "id": "e43f9566",
   "metadata": {},
   "outputs": [
    {
     "name": "stdout",
     "output_type": "stream",
     "text": [
      "2.8.0+cu129\n",
      "12.9\n",
      "True\n"
     ]
    }
   ],
   "source": [
    "import torch\n",
    "print(torch.__version__)              # Harus versi CUDA\n",
    "print(torch.version.cuda)             # Harus '12.1'\n",
    "print(torch.cuda.is_available())      # Harus True\n",
    "# print(torch.cuda.get_device_name(0))  # Harus 'NVIDIA GeForce RTX 4060'"
   ]
  },
  {
   "cell_type": "code",
   "execution_count": null,
   "id": "db4af7f7",
   "metadata": {},
   "outputs": [
    {
     "name": "stdout",
     "output_type": "stream",
     "text": [
      "True\n",
      "NVIDIA GeForce RTX 4060 Laptop GPU\n"
     ]
    }
   ],
   "source": [
    "import torch\n",
    "print(torch.cuda.is_available())  # hards True\n",
    "print(torch.cuda.get_device_name(0))  # Nama GPU"
   ]
  },
  {
   "cell_type": "code",
   "execution_count": 40,
   "id": "49c28464",
   "metadata": {},
   "outputs": [],
   "source": [
    "import torch\n",
    "import cudnn\n",
    "\n",
    "# Prepare sample input data. nvmath-python accepts input tensors from pytorch, cupy, and\n",
    "# numpy.\n",
    "b, m, n, k = 1, 1024, 1024, 512\n",
    "A = torch.randn(b, m, k, dtype=torch.float32, device=\"cuda\")\n",
    "B = torch.randn(b, k, n, dtype=torch.float32, device=\"cuda\")\n",
    "bias = torch.randn(b, m, 1, dtype=torch.float32, device=\"cuda\")\n",
    "\n",
    "result = torch.empty(b, m, n, dtype=torch.float32, device=\"cuda\")\n",
    "\n",
    "# Use the stateful Graph object in order to perform multiple matrix multiplications\n",
    "# without replanning. The cudnn API allows us to fine-tune our operations by, for\n",
    "# example, selecting a mixed-precision compute type.\n",
    "graph = cudnn.pygraph(\n",
    "   intermediate_data_type=cudnn.data_type.FLOAT,\n",
    "   compute_data_type=cudnn.data_type.FLOAT,\n",
    ")\n",
    "\n",
    "a_cudnn_tensor    = graph.tensor_like(A)\n",
    "b_cudnn_tensor    = graph.tensor_like(B)\n",
    "bias_cudnn_tensor = graph.tensor_like(bias)\n",
    "\n",
    "c_cudnn_tensor = graph.matmul(name=\"matmul\", A=a_cudnn_tensor, B=b_cudnn_tensor)\n",
    "d_cudnn_tensor = graph.bias(name=\"bias\", input=c_cudnn_tensor, bias=bias_cudnn_tensor)\n",
    "\n",
    "# Build the matrix multiplication. Building returns a sequence of algorithms that can be\n",
    "# configured. Each algorithm is a JIT generated function that can be executed on the GPU.\n",
    "\n",
    "graph.build([cudnn.heur_mode.A])\n",
    "workspace = torch.empty(graph.get_workspace_size(), device=\"cuda\", dtype=torch.uint8)\n",
    "\n",
    "# Execute the matrix multiplication.\n",
    "graph.execute(\n",
    "   {\n",
    "       a_cudnn_tensor: A,\n",
    "       b_cudnn_tensor: B,\n",
    "       bias_cudnn_tensor: bias,\n",
    "       d_cudnn_tensor: result,\n",
    "   },\n",
    "   workspace\n",
    ")"
   ]
  },
  {
   "cell_type": "code",
   "execution_count": 14,
   "id": "c26397f0",
   "metadata": {},
   "outputs": [
    {
     "name": "stdout",
     "output_type": "stream",
     "text": [
      "{\n",
      "    \"context\": {\n",
      "        \"compute_data_type\": \"FLOAT\",\n",
      "        \"intermediate_data_type\": \"FLOAT\",\n",
      "        \"io_data_type\": null,\n",
      "        \"name\": \"\",\n",
      "        \"sm_count\": -1\n",
      "    },\n",
      "    \"cudnn_backend_version\": \"9.10.2\",\n",
      "    \"cudnn_frontend_version\": 11401,\n",
      "    \"json_version\": \"1.0\",\n",
      "    \"nodes\": [\n",
      "        {\n",
      "            \"compute_data_type\": \"FLOAT\",\n",
      "            \"inputs\": {\n",
      "                \"A\": \"matmul::A\",\n",
      "                \"B\": \"matmul::B\"\n",
      "            },\n",
      "            \"name\": \"matmul\",\n",
      "            \"outputs\": {\n",
      "                \"C\": \"matmul::C\"\n",
      "            },\n",
      "            \"padding_value\": 0.0,\n",
      "            \"tag\": \"MATMUL\"\n",
      "        },\n",
      "        {\n",
      "            \"axis\": null,\n",
      "            \"compute_data_type\": \"FLOAT\",\n",
      "            \"elu_alpha\": null,\n",
      "            \"inputs\": {\n",
      "                \"IN_0\": \"matmul::C\",\n",
      "                \"IN_1\": \"bias::IN_1\"\n",
      "            },\n",
      "            \"mode\": \"ADD\",\n",
      "            \"name\": \"bias\",\n",
      "            \"outputs\": {\n",
      "                \"OUT_0\": \"bias::OUT_0\"\n",
      "            },\n",
      "            \"relu_lower_clip\": null,\n",
      "            \"relu_lower_clip_slope\": null,\n",
      "            \"relu_upper_clip\": null,\n",
      "            \"softplus_beta\": null,\n",
      "            \"swish_beta\": null,\n",
      "            \"tag\": \"POINTWISE\"\n",
      "        }\n",
      "    ],\n",
      "    \"tensors\": {\n",
      "        \"bias::IN_1\": {\n",
      "            \"data_type\": \"FLOAT\",\n",
      "            \"dim\": [1,1024,1],\n",
      "            \"is_pass_by_value\": false,\n",
      "            \"is_virtual\": false,\n",
      "            \"name\": \"bias::IN_1\",\n",
      "            \"pass_by_value\": null,\n",
      "            \"reordering_type\": \"NONE\",\n",
      "            \"stride\": [1,1,1],\n",
      "            \"uid\": 4,\n",
      "            \"uid_assigned\": true\n",
      "        },\n",
      "        \"bias::OUT_0\": {\n",
      "            \"data_type\": \"FLOAT\",\n",
      "            \"dim\": [1,1024,1024],\n",
      "            \"is_pass_by_value\": false,\n",
      "            \"is_virtual\": true,\n",
      "            \"name\": \"bias::OUT_0\",\n",
      "            \"pass_by_value\": null,\n",
      "            \"reordering_type\": \"NONE\",\n",
      "            \"stride\": [1048576,1024,1],\n",
      "            \"uid\": 5,\n",
      "            \"uid_assigned\": true\n",
      "        },\n",
      "        \"matmul::A\": {\n",
      "            \"data_type\": \"FLOAT\",\n",
      "            \"dim\": [1,1024,512],\n",
      "            \"is_pass_by_value\": false,\n",
      "            \"is_virtual\": false,\n",
      "            \"name\": \"matmul::A\",\n",
      "            \"pass_by_value\": null,\n",
      "            \"reordering_type\": \"NONE\",\n",
      "            \"stride\": [1,512,1],\n",
      "            \"uid\": 1,\n",
      "            \"uid_assigned\": true\n",
      "        },\n",
      "        \"matmul::B\": {\n",
      "            \"data_type\": \"FLOAT\",\n",
      "            \"dim\": [1,512,1024],\n",
      "            \"is_pass_by_value\": false,\n",
      "            \"is_virtual\": false,\n",
      "            \"name\": \"matmul::B\",\n",
      "            \"pass_by_value\": null,\n",
      "            \"reordering_type\": \"NONE\",\n",
      "            \"stride\": [1,1024,1],\n",
      "            \"uid\": 2,\n",
      "            \"uid_assigned\": true\n",
      "        },\n",
      "        \"matmul::C\": {\n",
      "            \"data_type\": \"FLOAT\",\n",
      "            \"dim\": [1,1024,1024],\n",
      "            \"is_pass_by_value\": false,\n",
      "            \"is_virtual\": true,\n",
      "            \"name\": \"matmul::C\",\n",
      "            \"pass_by_value\": null,\n",
      "            \"reordering_type\": \"NONE\",\n",
      "            \"stride\": [1048576,1024,1],\n",
      "            \"uid\": 3,\n",
      "            \"uid_assigned\": true\n",
      "        }\n",
      "    }\n",
      "}\n"
     ]
    }
   ],
   "source": [
    "print(graph)"
   ]
  }
 ],
 "metadata": {
  "kernelspec": {
   "display_name": "thesis-py310",
   "language": "python",
   "name": "python3"
  },
  "language_info": {
   "codemirror_mode": {
    "name": "ipython",
    "version": 3
   },
   "file_extension": ".py",
   "mimetype": "text/x-python",
   "name": "python",
   "nbconvert_exporter": "python",
   "pygments_lexer": "ipython3",
   "version": "3.10.18"
  }
 },
 "nbformat": 4,
 "nbformat_minor": 5
}
